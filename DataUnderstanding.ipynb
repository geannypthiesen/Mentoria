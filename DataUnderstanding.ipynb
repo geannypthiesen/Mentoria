{
 "cells": [
  {
   "cell_type": "code",
   "execution_count": null,
   "metadata": {},
   "outputs": [
    {
     "ename": "",
     "evalue": "",
     "output_type": "error",
     "traceback": [
      "\u001b[1;31mA execução de células com 'venv' requer o pacote ipykernel.\n",
      "\u001b[1;31mRun the following command to install 'ipykernel' into the Python environment. \n",
      "\u001b[1;31mCommand: '/home/geanny/Documentos/Mentoria/venv/bin/python -m pip install ipykernel -U --force-reinstall'"
     ]
    }
   ],
   "source": [
    "import pandas as pd\n",
    "import numpy as np\n",
    "import matplotlib as plt\n",
    "import seaborn as sns\n",
    "import matplotlib.pyplot as plt\n"
   ]
  },
  {
   "attachments": {},
   "cell_type": "markdown",
   "metadata": {},
   "source": [
    "1. Lendo a tabela e especificando o tipo de dado em cada coluna\n"
   ]
  },
  {
   "cell_type": "code",
   "execution_count": null,
   "metadata": {},
   "outputs": [
    {
     "ename": "",
     "evalue": "",
     "output_type": "error",
     "traceback": [
      "\u001b[1;31mA execução de células com 'venv' requer o pacote ipykernel.\n",
      "\u001b[1;31mRun the following command to install 'ipykernel' into the Python environment. \n",
      "\u001b[1;31mCommand: '/home/geanny/Documentos/Mentoria/venv/bin/python -m pip install ipykernel -U --force-reinstall'"
     ]
    }
   ],
   "source": [
    "df = pd.read_csv(\"superliga_202122.csv\")\n",
    "pd.set_option('display.max_columns', None)\n",
    "df\n"
   ]
  },
  {
   "cell_type": "code",
   "execution_count": null,
   "metadata": {},
   "outputs": [
    {
     "ename": "",
     "evalue": "",
     "output_type": "error",
     "traceback": [
      "\u001b[1;31mA execução de células com 'venv' requer o pacote ipykernel.\n",
      "\u001b[1;31mRun the following command to install 'ipykernel' into the Python environment. \n",
      "\u001b[1;31mCommand: '/home/geanny/Documentos/Mentoria/venv/bin/python -m pip install ipykernel -U --force-reinstall'"
     ]
    }
   ],
   "source": [
    "print(df.dtypes)"
   ]
  },
  {
   "cell_type": "code",
   "execution_count": null,
   "metadata": {},
   "outputs": [
    {
     "ename": "",
     "evalue": "",
     "output_type": "error",
     "traceback": [
      "\u001b[1;31mA execução de células com 'venv' requer o pacote ipykernel.\n",
      "\u001b[1;31mRun the following command to install 'ipykernel' into the Python environment. \n",
      "\u001b[1;31mCommand: '/home/geanny/Documentos/Mentoria/venv/bin/python -m pip install ipykernel -U --force-reinstall'"
     ]
    }
   ],
   "source": [
    "df = df.drop([\"SET 1\",\t\"SET 2\",\t\"SET 3\",\t\"SET 4\",\t\"SET 5\"], axis=1)\n",
    "\n"
   ]
  },
  {
   "cell_type": "code",
   "execution_count": null,
   "metadata": {},
   "outputs": [
    {
     "ename": "",
     "evalue": "",
     "output_type": "error",
     "traceback": [
      "\u001b[1;31mA execução de células com 'venv' requer o pacote ipykernel.\n",
      "\u001b[1;31mRun the following command to install 'ipykernel' into the Python environment. \n",
      "\u001b[1;31mCommand: '/home/geanny/Documentos/Mentoria/venv/bin/python -m pip install ipykernel -U --force-reinstall'"
     ]
    }
   ],
   "source": [
    "df.head(10)\n",
    "\n",
    "\n",
    "#esses NaN poderiam ser subtituidos por 0? Acho que não "
   ]
  },
  {
   "attachments": {},
   "cell_type": "markdown",
   "metadata": {},
   "source": [
    "2. Análise exploratória"
   ]
  },
  {
   "cell_type": "code",
   "execution_count": null,
   "metadata": {},
   "outputs": [
    {
     "ename": "",
     "evalue": "",
     "output_type": "error",
     "traceback": [
      "\u001b[1;31mA execução de células com 'venv' requer o pacote ipykernel.\n",
      "\u001b[1;31mRun the following command to install 'ipykernel' into the Python environment. \n",
      "\u001b[1;31mCommand: '/home/geanny/Documentos/Mentoria/venv/bin/python -m pip install ipykernel -U --force-reinstall'"
     ]
    }
   ],
   "source": [
    "if df['Ataque Blk'].notna().any:\n",
    "    print(\"Coluna não está vazia\")\n",
    "else:\n",
    "    print(\"Coluna Vazia\")\n",
    "\n",
    "    #Não entendi essa coluna, não tá vazia mas da 0 na soma? "
   ]
  },
  {
   "cell_type": "code",
   "execution_count": null,
   "metadata": {},
   "outputs": [
    {
     "ename": "",
     "evalue": "",
     "output_type": "error",
     "traceback": [
      "\u001b[1;31mA execução de células com 'venv' requer o pacote ipykernel.\n",
      "\u001b[1;31mRun the following command to install 'ipykernel' into the Python environment. \n",
      "\u001b[1;31mCommand: '/home/geanny/Documentos/Mentoria/venv/bin/python -m pip install ipykernel -U --force-reinstall'"
     ]
    }
   ],
   "source": [
    "df['Recepção Tot'].min()"
   ]
  },
  {
   "attachments": {},
   "cell_type": "markdown",
   "metadata": {},
   "source": [
    "2.2 Somando os fundamentos \n"
   ]
  },
  {
   "cell_type": "code",
   "execution_count": null,
   "metadata": {},
   "outputs": [
    {
     "ename": "",
     "evalue": "",
     "output_type": "error",
     "traceback": [
      "\u001b[1;31mA execução de células com 'venv' requer o pacote ipykernel.\n",
      "\u001b[1;31mRun the following command to install 'ipykernel' into the Python environment. \n",
      "\u001b[1;31mCommand: '/home/geanny/Documentos/Mentoria/venv/bin/python -m pip install ipykernel -U --force-reinstall'"
     ]
    }
   ],
   "source": [
    "### BLOQUEIOS - Somei os bloqueios por time, depois coloquei eles em ordem com o argsort -> mas queria em ordem decrescente então coloquei em uma lista e ordei a lista em ordem descrescente usando o head para pegar só os cinco primeiros\n",
    "\n",
    "\n",
    "bloqueios_por_time = df.groupby('Time')['Bloqueio Pts'].sum() # soma os bloqueios\n",
    "ibloqueio_por_time = bloqueios_por_time.argsort #coloca em ordem\n",
    "bloqueios_por_time = bloqueios_por_time[ibloqueio_por_time][::-1].head(5) #coloca numa lista decrescente \n",
    "bloqueios_por_time\n",
    "                                        \n",
    "ax = bloqueios_por_time.plot(x=\"Time\", y=\"bloqueios_por_time\", kind='bar', color =\"#66badd\", width=0.9) #gambiara para colocar os rótulos - tem um jeito melhor de fazer? \n",
    "ax.set_title(\"Times com maior número de pontos bloqueios\")\n",
    "\n",
    "\n",
    "\n",
    "for i in ax.containers:\n",
    "    ax.bar_label(i, label_type='center')    #type = é o lugar onde os rótulos vão ser apresentados\n",
    "    \n",
    "plt.show()\n",
    "\n",
    "#como colocar rótulos de dados?\n",
    "\n",
    "#como ordenar? \n",
    "\n",
    "\n",
    "\n"
   ]
  },
  {
   "cell_type": "code",
   "execution_count": null,
   "metadata": {},
   "outputs": [
    {
     "ename": "",
     "evalue": "",
     "output_type": "error",
     "traceback": [
      "\u001b[1;31mA execução de células com 'venv' requer o pacote ipykernel.\n",
      "\u001b[1;31mRun the following command to install 'ipykernel' into the Python environment. \n",
      "\u001b[1;31mCommand: '/home/geanny/Documentos/Mentoria/venv/bin/python -m pip install ipykernel -U --force-reinstall'"
     ]
    }
   ],
   "source": [
    "bloqueios_por_jogadora = df.groupby('Jogadora')['Bloqueio Pts'].sum()\n",
    "ibloqueio_por_jogadora = bloqueios_por_jogadora.argsort\n",
    "ibloqueio_por_jogadora = bloqueios_por_jogadora.argsort(ibloqueio_por_jogadora)[::-1].head(5) #para inverter a lista - ordem decrescente\n",
    "bloqueios_por_jogadora = bloqueios_por_jogadora[ibloqueio_por_jogadora] \n",
    "ax = bloqueios_por_jogadora.plot(x=\"Jogadora\", y=\"bloqueios_por_jogadora\", kind='bar', color =\"orange\")\n",
    "ax.set_title(\"Jogadoras com maior número de pontos bloqueios\")\n",
    "\n",
    "\n",
    "for i in ax.containers:\n",
    "    ax.bar_label(i, label_type='center') #type = é o lugar onde os rótulos vão ser apresentados\n",
    "    \n",
    "plt.show()"
   ]
  },
  {
   "cell_type": "code",
   "execution_count": null,
   "metadata": {},
   "outputs": [
    {
     "ename": "",
     "evalue": "",
     "output_type": "error",
     "traceback": [
      "\u001b[1;31mA execução de células com 'venv' requer o pacote ipykernel.\n",
      "\u001b[1;31mRun the following command to install 'ipykernel' into the Python environment. \n",
      "\u001b[1;31mCommand: '/home/geanny/Documentos/Mentoria/venv/bin/python -m pip install ipykernel -U --force-reinstall'"
     ]
    }
   ],
   "source": [
    "\n",
    "### ACES POR TIME ### \n",
    "\n",
    "aces_por_time = df.groupby('Time')['Serviço Ace'].sum()\n",
    "iaces_por_time = aces_por_time.argsort\n",
    "iaces_por_time = aces_por_time.argsort(iaces_por_time)[::-1].head(5) #para inverter a lista - ordem decrescente\n",
    "aces_por_time=aces_por_time[iaces_por_time]\n",
    "aces_por_time"
   ]
  },
  {
   "cell_type": "code",
   "execution_count": null,
   "metadata": {},
   "outputs": [
    {
     "ename": "",
     "evalue": "",
     "output_type": "error",
     "traceback": [
      "\u001b[1;31mA execução de células com 'venv' requer o pacote ipykernel.\n",
      "\u001b[1;31mRun the following command to install 'ipykernel' into the Python environment. \n",
      "\u001b[1;31mCommand: '/home/geanny/Documentos/Mentoria/venv/bin/python -m pip install ipykernel -U --force-reinstall'"
     ]
    }
   ],
   "source": [
    "aces_por_jogadora = df.groupby('Jogadora')['Serviço Ace'].sum()\n",
    "iaces_por_jogadora = aces_por_jogadora.argsort\n",
    "iaces_por_jogadora= aces_por_jogadora.argsort(iaces_por_time)[::-1].head(5) #para inverter a lista - ordem decrescente\n",
    "aces_por_jogadora=aces_por_jogadora[iaces_por_jogadora]\n",
    "ax = aces_por_jogadora.plot(x=\"Jogadora\", y=\"aces_por_jogadora\", kind='bar', color = \"pink\")  #como destacar a barra máxima com outra cor\n",
    "ax.set_title(\"Jogadoras com maior número de Aces\")\n",
    "\n",
    "\n",
    "for i in ax.containers:\n",
    "    ax.bar_label(i, label_type='center') #type = é o lugar onde os rótulos vão ser apresentados\n",
    "    \n",
    "plt.show()\n"
   ]
  },
  {
   "cell_type": "code",
   "execution_count": null,
   "metadata": {},
   "outputs": [
    {
     "ename": "",
     "evalue": "",
     "output_type": "error",
     "traceback": [
      "\u001b[1;31mA execução de células com 'venv' requer o pacote ipykernel.\n",
      "\u001b[1;31mRun the following command to install 'ipykernel' into the Python environment. \n",
      "\u001b[1;31mCommand: '/home/geanny/Documentos/Mentoria/venv/bin/python -m pip install ipykernel -U --force-reinstall'"
     ]
    }
   ],
   "source": [
    "\n",
    "recepcao_jogadora = df.groupby('Jogadora')['Recepção Tot'].sum()\n",
    "irecepcao_jogadora = recepcao_jogadora.argsort\n",
    "irecepcao_jogadora = recepcao_jogadora.argsort(irecepcao_jogadora)[::-1].head(5)\n",
    "recepcao_jogadora = recepcao_jogadora[irecepcao_jogadora]\n",
    "ax = recepcao_jogadora.plot(x = \"Jogadora\", y = \"recepcao_jogadora\", kind =\"bar\", color=\"purple\")\n",
    "ax.set_title('Recepção por jogadoras')\n",
    "\n",
    "\n",
    "\n",
    "for i in ax.containers:\n",
    "    ax.bar_label(i, label_type='center') #type = é o lugar onde os rótulos vão ser apresentados\n",
    "    \n",
    "plt.show()\n",
    "\n",
    "\n",
    "#Recepção Tot"
   ]
  },
  {
   "cell_type": "code",
   "execution_count": null,
   "metadata": {},
   "outputs": [
    {
     "ename": "",
     "evalue": "",
     "output_type": "error",
     "traceback": [
      "\u001b[1;31mA execução de células com 'venv' requer o pacote ipykernel.\n",
      "\u001b[1;31mRun the following command to install 'ipykernel' into the Python environment. \n",
      "\u001b[1;31mCommand: '/home/geanny/Documentos/Mentoria/venv/bin/python -m pip install ipykernel -U --force-reinstall'"
     ]
    }
   ],
   "source": [
    "recepcao_jogadora_erro = df.groupby('Jogadora')['Recepção Err'].sum()\n",
    "irecepcao_jogadora_erro = recepcao_jogadora_erro.argsort\n",
    "irecepcao_jogadora_erro"
   ]
  },
  {
   "cell_type": "code",
   "execution_count": null,
   "metadata": {},
   "outputs": [
    {
     "ename": "",
     "evalue": "",
     "output_type": "error",
     "traceback": [
      "\u001b[1;31mA execução de células com 'venv' requer o pacote ipykernel.\n",
      "\u001b[1;31mRun the following command to install 'ipykernel' into the Python environment. \n",
      "\u001b[1;31mCommand: '/home/geanny/Documentos/Mentoria/venv/bin/python -m pip install ipykernel -U --force-reinstall'"
     ]
    }
   ],
   "source": [
    "irecepcao_jogadora_erro = recepcao_jogadora_erro.argsort(irecepcao_jogadora_erro)[::-1].head(10)\n",
    "recepcao_jogadora_erro = recepcao_jogadora_erro[irecepcao_jogadora_erro]\n",
    "recepcao_jogadora_erro"
   ]
  },
  {
   "cell_type": "code",
   "execution_count": null,
   "metadata": {},
   "outputs": [
    {
     "ename": "",
     "evalue": "",
     "output_type": "error",
     "traceback": [
      "\u001b[1;31mA execução de células com 'venv' requer o pacote ipykernel.\n",
      "\u001b[1;31mRun the following command to install 'ipykernel' into the Python environment. \n",
      "\u001b[1;31mCommand: '/home/geanny/Documentos/Mentoria/venv/bin/python -m pip install ipykernel -U --force-reinstall'"
     ]
    }
   ],
   "source": [
    "recepcao_jogadora_erro = recepcao_jogadora_erro [irecepcao_jogadora_erro]\n",
    "recepcao_jogadora_erro"
   ]
  },
  {
   "cell_type": "code",
   "execution_count": null,
   "metadata": {},
   "outputs": [
    {
     "ename": "",
     "evalue": "",
     "output_type": "error",
     "traceback": [
      "\u001b[1;31mA execução de células com 'venv' requer o pacote ipykernel.\n",
      "\u001b[1;31mRun the following command to install 'ipykernel' into the Python environment. \n",
      "\u001b[1;31mCommand: '/home/geanny/Documentos/Mentoria/venv/bin/python -m pip install ipykernel -U --force-reinstall'"
     ]
    }
   ],
   "source": [
    "\n",
    "ax = recepcao_jogadora_erro.plot(x = \"Jogadora\", y = \"recepcao_jogadora_erro \", kind =\"bar\", color=\"#FB4A4C\")\n",
    "ax.set_title('Erros de recepção')\n",
    "\n",
    "\n",
    "\n",
    "for i in ax.containers:\n",
    "    ax.bar_label(i, label_type='center') #type = é o lugar onde os rótulos vão ser apresentados\n",
    "    \n",
    "plt.show()"
   ]
  },
  {
   "cell_type": "code",
   "execution_count": null,
   "metadata": {},
   "outputs": [
    {
     "ename": "",
     "evalue": "",
     "output_type": "error",
     "traceback": [
      "\u001b[1;31mA execução de células com 'venv' requer o pacote ipykernel.\n",
      "\u001b[1;31mRun the following command to install 'ipykernel' into the Python environment. \n",
      "\u001b[1;31mCommand: '/home/geanny/Documentos/Mentoria/venv/bin/python -m pip install ipykernel -U --force-reinstall'"
     ]
    }
   ],
   "source": [
    "teste_recepcao = df.groupby('Jogadora')['Recepção Tot'].sum()\n",
    "iteste_recepcao = teste_recepcao.argsort\n",
    "iteste_recepcao= teste_recepcao.argsort(teste_recepcao)[::-1].head(10)\n",
    "teste_recepcao = teste_recepcao[iteste_recepcao]\n",
    "\n",
    "\n",
    "por_recepcao = recepcao_jogadora_erro/teste_recepcao\n",
    "por_recepcao\n",
    "\n",
    "#ax = por_recepcao.plot(x = \"Jogadora\" , y = \"por_recepcao\", kind =\"bar\")\n",
    "\n",
    "\n",
    "#porcetagem_teste = recepcao_jogadora_erro/recepcao_jogadora\n",
    "#porcetagem_teste\n",
    "#dados_correlacao = df[\"Serviço Err\",\t\"Serviço Ace\",\t\"Recepção Tot\",\t\"Recepção Err\",\t\"Ataque Exc.\",\t\"Ataque Err\",\t\"Ataque Blk\",\t\"Bloqueio Pts\"\t]\n",
    "#dados_correlacao\n",
    "#matriz_correlacao = df.corr()\n",
    "\n",
    "#\"Serviço Err\"\",\t\"Serviço Ace\",\t\"Recepção Tot\",\t\"Recepção Err\",\t\"Ataque Exc.\",\t\"Ataque Err\",\t\"Ataque Blk\",\t\"Bloqueio Pts\"\t)"
   ]
  },
  {
   "cell_type": "code",
   "execution_count": null,
   "metadata": {},
   "outputs": [
    {
     "ename": "",
     "evalue": "",
     "output_type": "error",
     "traceback": [
      "\u001b[1;31mA execução de células com 'venv' requer o pacote ipykernel.\n",
      "\u001b[1;31mRun the following command to install 'ipykernel' into the Python environment. \n",
      "\u001b[1;31mCommand: '/home/geanny/Documentos/Mentoria/venv/bin/python -m pip install ipykernel -U --force-reinstall'"
     ]
    }
   ],
   "source": []
  },
  {
   "cell_type": "code",
   "execution_count": null,
   "metadata": {},
   "outputs": [
    {
     "ename": "",
     "evalue": "",
     "output_type": "error",
     "traceback": [
      "\u001b[1;31mA execução de células com 'venv' requer o pacote ipykernel.\n",
      "\u001b[1;31mRun the following command to install 'ipykernel' into the Python environment. \n",
      "\u001b[1;31mCommand: '/home/geanny/Documentos/Mentoria/venv/bin/python -m pip install ipykernel -U --force-reinstall'"
     ]
    }
   ],
   "source": []
  },
  {
   "cell_type": "code",
   "execution_count": null,
   "metadata": {},
   "outputs": [
    {
     "ename": "",
     "evalue": "",
     "output_type": "error",
     "traceback": [
      "\u001b[1;31mA execução de células com 'venv' requer o pacote ipykernel.\n",
      "\u001b[1;31mRun the following command to install 'ipykernel' into the Python environment. \n",
      "\u001b[1;31mCommand: '/home/geanny/Documentos/Mentoria/venv/bin/python -m pip install ipykernel -U --force-reinstall'"
     ]
    }
   ],
   "source": []
  },
  {
   "cell_type": "code",
   "execution_count": null,
   "metadata": {},
   "outputs": [
    {
     "ename": "",
     "evalue": "",
     "output_type": "error",
     "traceback": [
      "\u001b[1;31mA execução de células com 'venv' requer o pacote ipykernel.\n",
      "\u001b[1;31mRun the following command to install 'ipykernel' into the Python environment. \n",
      "\u001b[1;31mCommand: '/home/geanny/Documentos/Mentoria/venv/bin/python -m pip install ipykernel -U --force-reinstall'"
     ]
    }
   ],
   "source": []
  },
  {
   "cell_type": "code",
   "execution_count": null,
   "metadata": {},
   "outputs": [
    {
     "ename": "",
     "evalue": "",
     "output_type": "error",
     "traceback": [
      "\u001b[1;31mA execução de células com 'venv' requer o pacote ipykernel.\n",
      "\u001b[1;31mRun the following command to install 'ipykernel' into the Python environment. \n",
      "\u001b[1;31mCommand: '/home/geanny/Documentos/Mentoria/venv/bin/python -m pip install ipykernel -U --force-reinstall'"
     ]
    }
   ],
   "source": []
  }
 ],
 "metadata": {
  "kernelspec": {
   "display_name": "Mentoria",
   "language": "python",
   "name": "mentoria"
  },
  "language_info": {
   "codemirror_mode": {
    "name": "ipython",
    "version": 3
   },
   "file_extension": ".py",
   "mimetype": "text/x-python",
   "name": "python",
   "nbconvert_exporter": "python",
   "pygments_lexer": "ipython3",
   "version": "3.10.6"
  },
  "orig_nbformat": 4
 },
 "nbformat": 4,
 "nbformat_minor": 2
}
